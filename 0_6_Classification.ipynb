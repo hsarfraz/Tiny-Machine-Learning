{
  "cells": [
    {
      "cell_type": "markdown",
      "metadata": {
        "id": "view-in-github",
        "colab_type": "text"
      },
      "source": [
        "<a href=\"https://colab.research.google.com/github/hsarfraz/Tiny-Machine-Learning/blob/main/0_6_Classification.ipynb\" target=\"_parent\"><img src=\"https://colab.research.google.com/assets/colab-badge.svg\" alt=\"Open In Colab\"/></a>"
      ]
    },
    {
      "cell_type": "markdown",
      "source": [
        "# Introduction\n",
        "\n",
        "In this notebook I will be talking about classification which is a supervised machine learning method where a model tries to predict the correct label/category of input data (images). In classification, a model is fully trained using training data and is then evaluated on test data to perform predictions on new unseen data.\n",
        "\n",
        "## Re-cap: Dataset types in ML model training:\n",
        "To re-cap from [notebook 0.4](https://github.com/hsarfraz/Tiny-Machine-Learning/blob/main/0_4_Graphing_Neural_Network_Accuracy.ipynb), here are definitions of the different types of datasets used during machine learning (ML) model training:\n",
        "\n",
        " Types of ML Datasets  | Definition\n",
        " ------------- | -------------\n",
        " Training Dataset  | The dataset that is initially used to fit/train the ML model\n",
        " Validation Dataset  | The dataset used during the training phase of the model and used to fine-tune the model's parameters and make it accurate  \n",
        " Test Dataset  | The dataset used after the ML model has been fully trained to assess the model's perfomance on completly new/unseen data\n",
        "\n",
        " *  **NOTE:** Using a validation dataset is optional when training a ML model, but it is highly recommended because it improves the models accuracy. Some experts say that a validation dataset is not required if the ML model has no hyperparameters (ML models that don't have tuning options)\n",
        "\n",
        "## Overview of Artificial Intelligence, Machine Learning, and Deep Learning:\n",
        "\n",
        "Classification is a supervised learning method. Supervised learning is a subcategory of artificial intelligence and machine learning. Before I start talking about classification in greater detail I wanted to include a diagram which highlights the difference between artificial intelligence, machine learning, and deep learning.\n",
        "\n",
        "<img src=\"images/0.6_AI_ML_DL_Overview.jpg\" width=\"700\">\n",
        "\n",
        "\n",
        "### Supervised Learning\n",
        "\n",
        "Here is a diagram which provides a detailed explanation of supervised learning (I will define the other machine learning methods in future notebooks):\n",
        "\n",
        "<img src=\"images/0.6_supervised_learning.jpg\" width=\"700\">\n",
        "\n"
      ],
      "metadata": {
        "id": "MxCvsDBbDlAF"
      }
    },
    {
      "cell_type": "markdown",
      "metadata": {
        "id": "jL2nKxjS4S_r"
      },
      "source": [
        "# Start with a simple neural network for MNIST\n",
        "Note that there are 2 layers, one with 20 neurons, and one with 10.\n",
        "\n",
        "The 10-neuron layer is our final layer because we have 10 classes we want to classify.\n",
        "\n",
        "Train this, and you should see it get about 98% accuracy"
      ]
    },
    {
      "cell_type": "code",
      "execution_count": null,
      "metadata": {
        "id": "dpkllLt9knmt"
      },
      "outputs": [],
      "source": [
        "# Load libraries\n",
        "import sys\n",
        "\n",
        "import tensorflow as tf"
      ]
    },
    {
      "cell_type": "code",
      "execution_count": null,
      "metadata": {
        "id": "hks5Ij4Lknmz"
      },
      "outputs": [],
      "source": [
        "# This script requires TensorFlow 2 and Python 3.\n",
        "if sys.version_info.major < 3:\n",
        "    raise Exception((f\"The script is developed and tested for Python 3. \"\n",
        "                     f\"Current version: {sys.version_info.major}\"))\n",
        "\n",
        "if tf.__version__.split('.')[0] != '2':\n",
        "    raise Exception((f\"The script is developed and tested for tensorflow 2. \"\n",
        "                     f\"Current version: {tf.__version__}\"))"
      ]
    },
    {
      "cell_type": "code",
      "execution_count": null,
      "metadata": {
        "id": "zrQ-DeQtybXZ"
      },
      "outputs": [],
      "source": [
        "data = tf.keras.datasets.mnist\n",
        "\n",
        "(training_images, training_labels), (val_images, val_labels) = data.load_data()\n",
        "\n",
        "training_images  = training_images / 255.0\n",
        "val_images = val_images / 255.0\n",
        "model = tf.keras.models.Sequential([tf.keras.layers.Flatten(input_shape=(28,28)),\n",
        "                                    tf.keras.layers.Dense(20, activation=tf.nn.relu),\n",
        "                                    tf.keras.layers.Dense(10, activation=tf.nn.softmax)])\n",
        "\n",
        "model.compile(optimizer='adam',\n",
        "              loss='sparse_categorical_crossentropy',\n",
        "              metrics=['accuracy'])\n",
        "\n",
        "model.fit(training_images, training_labels, epochs=20, validation_data=(val_images, val_labels))\n"
      ]
    },
    {
      "cell_type": "markdown",
      "metadata": {
        "id": "JN92xbwK4i_S"
      },
      "source": [
        "## Examine the test data\n",
        "\n",
        "Using model.evaluate, you can get metrics for a test set. In this case we only have a training set and a validation set, so we can try it out with the validation set. The accuracy will be slightly lower, at maybe 96%.  This is because the model hasn't previously seen this data and may not be fully generalized for all data. Still it's a pretty good score.\n",
        "\n",
        "You can also predict images, and compare against their actual label. The [0] image in the set is a number 7, and here you can see that neuron 7 has a 9.9e-1 (99%+) probability, so it got it right!\n"
      ]
    },
    {
      "cell_type": "code",
      "execution_count": null,
      "metadata": {
        "id": "Rzit5Te-4lT6"
      },
      "outputs": [],
      "source": [
        "\n",
        "model.evaluate(val_images, val_labels)\n",
        "\n",
        "classifications = model.predict(val_images)\n",
        "print(classifications[0])\n",
        "print(val_labels[0])"
      ]
    },
    {
      "cell_type": "markdown",
      "metadata": {
        "id": "6LkJGAiI5Cr3"
      },
      "source": [
        "## Modify to inspect learned values\n",
        "\n",
        "This code is identical, except that the layers are named prior to adding to the sequential. This allows us to inspect their learned parameters later."
      ]
    },
    {
      "cell_type": "code",
      "execution_count": null,
      "metadata": {
        "id": "eyyJ3RMYpFXR"
      },
      "outputs": [],
      "source": [
        "data = tf.keras.datasets.mnist\n",
        "\n",
        "(training_images, training_labels), (val_images, val_labels) = data.load_data()\n",
        "\n",
        "training_images  = training_images / 255.0\n",
        "val_images = val_images / 255.0\n",
        "layer_1 = tf.keras.layers.Dense(20, activation=tf.nn.relu)\n",
        "layer_2 = tf.keras.layers.Dense(10, activation=tf.nn.softmax)\n",
        "model = tf.keras.models.Sequential([tf.keras.layers.Flatten(input_shape=(28,28)),\n",
        "                                    layer_1,\n",
        "                                    layer_2])\n",
        "\n",
        "model.compile(optimizer='adam',\n",
        "              loss='sparse_categorical_crossentropy',\n",
        "              metrics=['accuracy'])\n",
        "\n",
        "model.fit(training_images, training_labels, epochs=20)\n",
        "\n",
        "model.evaluate(val_images, val_labels)\n",
        "\n",
        "classifications = model.predict(val_images)\n",
        "print(classifications[0])\n",
        "print(val_labels[0])"
      ]
    },
    {
      "cell_type": "markdown",
      "metadata": {
        "id": "7pNYFF935PlE"
      },
      "source": [
        "# Inspect weights\n",
        "\n",
        "If you print layer_1.get_weights(), you'll see a lot of data. Let's unpack it. First, there are 2 arrays in the result, so let's look at the first one. In particular let's look at its size."
      ]
    },
    {
      "cell_type": "code",
      "execution_count": null,
      "metadata": {
        "id": "QACivjNKxFWW"
      },
      "outputs": [],
      "source": [
        "print(layer_1.get_weights()[0].size)"
      ]
    },
    {
      "cell_type": "markdown",
      "metadata": {
        "id": "lqpHrDyp5acs"
      },
      "source": [
        "The above code should print 15680. Why?\n",
        "\n",
        "Recall that there are 20 neurons in the first layer.\n",
        "\n",
        "Recall also that the images are 28x28, which is 784.\n",
        "\n",
        "If you multiply 784 x 20 you get 15680.\n",
        "\n",
        "So...this layer has 20 neurons, and each neuron learns a W parameter for each pixel. So instead of y=Mx+c, we have\n",
        "y=M1X1+M2X2+M3X3+....+M784X784+C in every neuron!\n",
        "\n",
        "Every pixel has a weight in every neuron. Those weights are multiplied by the pixel value, summed up, and given a bias.\n"
      ]
    },
    {
      "cell_type": "code",
      "execution_count": null,
      "metadata": {
        "id": "TdXrHDEw6ACm"
      },
      "outputs": [],
      "source": [
        "print(layer_1.get_weights()[1].size)"
      ]
    },
    {
      "cell_type": "markdown",
      "metadata": {
        "id": "EIOZ7rJy6Eg1"
      },
      "source": [
        "The above code will give you 20 -- the get_weights()[1] contains the biases for each of the 20 neurons in this layer."
      ]
    },
    {
      "cell_type": "markdown",
      "metadata": {
        "id": "yyFKpzxN6T-N"
      },
      "source": [
        "## Inspecting layer 2\n",
        "\n",
        "Now let's look at layer 2. Printing the get_weights will give us 2 lists, the first a list of weights for the 10 neurons, and the second a list of biases for the 10 neurons\n",
        "\n",
        "Let's look first at the weights:"
      ]
    },
    {
      "cell_type": "code",
      "execution_count": null,
      "metadata": {
        "id": "o9P_PVwXyKXJ"
      },
      "outputs": [],
      "source": [
        "print(layer_2.get_weights()[0].size)"
      ]
    },
    {
      "cell_type": "markdown",
      "metadata": {
        "id": "daah2gq56fdb"
      },
      "source": [
        "This should return 200. Again, consider why?\n",
        "\n",
        "There are 10 neurons in this layer, but there are 20 neurons in the previous layer. So, each neuron in this layer will learn a weight for the incoming value from the previous layer. So, for example, the if the first neuron in this layer is N21, and the neurons output from the previous layers are N11-N120, then this neuron will have 20 weights (W1-W20) and it will calculate its output to be:\n",
        "\n",
        "W1N11+W2N12+W3N13+...+W20N120+Bias\n",
        "\n",
        "So each of these weights will be learned as will the bias, for every neuron.\n",
        "\n",
        "Note that N11 refers to Layer 1 Neuron 1.\n"
      ]
    },
    {
      "cell_type": "code",
      "execution_count": null,
      "metadata": {
        "id": "Reyw9wC65o8z"
      },
      "outputs": [],
      "source": [
        "print(layer_2.get_weights()[1].size)"
      ]
    },
    {
      "cell_type": "markdown",
      "metadata": {
        "id": "DS89WZag7GlB"
      },
      "source": [
        "...and as expected there are 10 elements in this array, representing the 10 biases for the 10 neurons.\n",
        "\n",
        "Hopefully this helps you see how the element of a simple neuron containing y=mx+c can be expanded greatly into a deep neural network, and that DNN can learn the parameters that match the 784 pixels of an image to their output!"
      ]
    }
  ],
  "metadata": {
    "accelerator": "GPU",
    "colab": {
      "provenance": [],
      "include_colab_link": true
    },
    "kernelspec": {
      "display_name": "Python 3",
      "language": "python",
      "name": "python3"
    },
    "language_info": {
      "codemirror_mode": {
        "name": "ipython",
        "version": 3
      },
      "file_extension": ".py",
      "mimetype": "text/x-python",
      "name": "python",
      "nbconvert_exporter": "python",
      "pygments_lexer": "ipython3",
      "version": "3.6.9"
    }
  },
  "nbformat": 4,
  "nbformat_minor": 0
}
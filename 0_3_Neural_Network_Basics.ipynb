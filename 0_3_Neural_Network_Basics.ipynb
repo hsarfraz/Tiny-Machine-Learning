{
  "cells": [
    {
      "cell_type": "markdown",
      "metadata": {
        "id": "view-in-github",
        "colab_type": "text"
      },
      "source": [
        "<a href=\"https://colab.research.google.com/github/hsarfraz/Tiny-Machine-Learning/blob/main/0_3_Neural_Network_Basics.ipynb\" target=\"_parent\"><img src=\"https://colab.research.google.com/assets/colab-badge.svg\" alt=\"Open In Colab\"/></a>"
      ]
    },
    {
      "cell_type": "markdown",
      "source": [
        "#### Introduction\n",
        "\n",
        "I am going to create a small neural network to gain a better understanding of how they work. My neural network will mimic what the process that I showed in the previous two notebooks (0.1 and 0.2).\n",
        "\n",
        "To recap, in notebooks 0.1 and 0.2 I fitted parameters into a equation by making a guess about those parameters and measured my loss on that guess. I then calculated the loss of each guess using the loss function and plotted the results on a graph. I then used calculus to calculate the gradient of each point and used that result to reach the minimum loss.  "
      ],
      "metadata": {
        "id": "mJK2B0EALaDM"
      }
    },
    {
      "cell_type": "code",
      "execution_count": 1,
      "metadata": {
        "id": "QCm3x_4F8bvg"
      },
      "outputs": [],
      "source": [
        "import sys\n",
        "import numpy as np\n",
        "import tensorflow as tf"
      ]
    },
    {
      "cell_type": "code",
      "execution_count": 2,
      "metadata": {
        "id": "Z0Zr0Kd4V5Qo"
      },
      "outputs": [],
      "source": [
        "# This script requires TensorFlow 2 and Python 3.\n",
        "if tf.__version__.split('.')[0] != '2':\n",
        "    raise Exception((f\"The script is developed and tested for tensorflow 2. \"\n",
        "                     f\"Current version: {tf.__version__}\"))\n",
        "\n",
        "if sys.version_info.major < 3:\n",
        "    raise Exception((f\"The script is developed and tested for Python 3. \"\n",
        "                     f\"Current version: {sys.version_info.major}\"))"
      ]
    },
    {
      "cell_type": "markdown",
      "source": [
        "#### **Explaining Neural Networks**\n",
        "\n",
        "The image below outlines the basic neural network architecture. The most important part that I want to highlight is how the network is made out of layers and follows a sequential order (it starts from the input layer and goes to the output). The neural network will essentially complete the problem-solving process of guessing the correct parameters to fit in the equation through the use of algorithms. The algorithms will help the neural network identify patterns and correlations in the data and will continuously learn and improve untill it reaches the right answer. (**note:** A neural network can still make errors so it is important on how you train it.\n",
        "\n",
        "----\n",
        "#### **Neurons**\n",
        "\n",
        "Esentially, the neuron is a function that has 2 learnable parameters called a **weight** and **bias**. When multiple neurons work together in each layer the learned weights and biases, across each layer, can allow the neural network to learn more complex patterns (I will explain this concept in further notebooks)\n",
        "\n",
        "<center><ins>Here is what the <b>output/function</b> of a neuron will look like (NOTE: This formula is the <b>y=mx+b</b> formula):</ins></center>\n",
        "$$\n",
        "Output = (Weight*Input)+Bias\n",
        "$$\n",
        "$$\n",
        "Y = mx+b\n",
        "$$\n",
        "\n",
        "---\n",
        "#### **Dense Neural Networks Layer Types**\n",
        "\n",
        "The image that I created below represents a **dense neural network layer**. There are many types of neural network layers in Tensorflow.\n",
        "\n",
        "> Types of Neural Network Layers\n",
        "\n",
        "* **Convolutional:** These layers contain filters that can be used to transform data. The values of these filters will be learned in the same way as the parameters in the dense neuron you see in this notebook. A neural network containing a convolutional layer type can learn how to transform data effectively, which is a feature useful in computer vision and specch detection)\n",
        "\n",
        "*  **Recurrent:** These layers learn about the relationships between pieces of data in a sequence. There are many types of recurrent layers, with a popular one called LSTM (Long Short Term Memory). Recurrent layers are useful for predicting sequence data (like weather), or understanding text.\n",
        "\n",
        "> Neural Network Layers that don't learn parameters themselves, but can influence other layers\n",
        "\n",
        "* **Dropouts:** These layers are used to reduce the density of a connection between dense layers to make them more efficient. The layer pools/combines layers which can be used to reduce the amount of data flowing through the network to remove unnecessary information\n",
        "\n",
        "* **Lambda:** These layers allow you to execute arbitrary code.\n",
        "\n",
        "\n",
        "---\n",
        "#### **Image of Dense Neural Network Architecture**\n",
        "\n",
        "![Neural Network (2)](images/Neural Network (2).jpg)"
        "\n"
      ],
      "metadata": {
        "id": "w1F-hQZYvCGA"
      }
    },
    {
      "cell_type": "markdown",
      "source": [
        "#### Explaining the Code\n",
        "\n",
        "#### **Defining the Neural Network Model**\n",
        "\n",
        "```python\n",
        "model = tf.keras.Sequential([tf.keras.layers.Dense(units=1, input_shape=[1])])\n",
        "\n",
        "```\n",
        "This line of code will define a new neural network model. The model defined is a neural net comprised of a single layer with a single neuron and that neural net will take on a single input.\n",
        "\n",
        "*   `.Sequential` defines the neural network. In this case, a sequential neural network is being defined (as shown in the image above)\n",
        "*   `.Dense` defines the layer types in the neural network. A dense layer is being created which means the neural net has a densely connected network\n",
        "*   `units=1` defines how many neurons will be included in the neural network. In this case, the unit parameter equals one so 1 neuron is created\n",
        "*   `input_shape=[1]` should always be defined in the first layer. For this neural net, the input shape is one value since we are training a neural network on single x's to predict single y's\n",
        "*   `[tf.keras.layers.Dense(units=1, input_shape=[1])]` the square brackets define a neural network layer. More neural net layers can be added as a list but for this neural network one layer is defined\n",
        "\n",
        "![illustration of neural network in code](https://drive.google.com/uc?export=view&id=105b8-29E3YpjEfWcB4AWZEd5ACzU8U_q)\n",
        "\n",
        "---\n",
        "#### **Compiling the Model**\n",
        "\n",
        "```python\n",
        "model.compile(optimizer='sgd', loss='mean_squared_error')\n",
        "```\n",
        "After the neural network model is created it needs to be compiled. **Model compilation** is performed after defining the model and before model training starts. The comilation process checks for format errors and defines the loss function, the optimizer, and the metrics. A compiled model is needed for training but not necessary for predicting.\n",
        "\n",
        "*   `optimizer='sgd'` defines the optimizer as the stohastic gradient descent (sgd) which uses the gradient to descend down the loss curve and reach the minimum. The learning rate is automatically defined in the optimizer (further documentation about the TensorFlow sgd optimizer can be found [here](https://www.tensorflow.org/api_docs/python/tf/keras/optimizers/experimental/SGD))\n",
        "*   `loss='mean_squared_error'` mean squared error is a function from Tensorflow which computes the squared distance between the true and predicted inputs and calculates the mean of those values.\n",
        "\n",
        "---\n",
        "#### **Specifying the x's and y's (Tensorflow requires the inputs and outputs to be in a array)**\n",
        "\n",
        "```python\n",
        "# define some training data (xs as inputs and ys as outputs)\n",
        "xs = np.array([-1.0,  0.0, 1.0, 2.0, 3.0, 4.0], dtype=float)\n",
        "ys = np.array([-3.0, -1.0, 1.0, 3.0, 5.0, 7.0], dtype=float)\n",
        "```\n",
        "---\n",
        "#### **Fitting the Model**\n",
        "\n",
        "```python\n",
        "# fit the model to the data (aka train the model)\n",
        "model.fit(xs, ys, epochs=500)\n",
        "```\n",
        "\n",
        "Model Fitting is the process of training the neural network to figure out the relationship between X and Y. `epoch=500` defines the amount of training rounds made for the neural metwork/model.\n",
        "\n",
        "---\n",
        "#### **Testing the model**\n",
        "\n",
        "```python\n",
        "print(model.predict([10.0]))\n",
        "```\n",
        "\n",
        "This code snippet predicts the Y for a given X that the user specifies. Evaluating the models Y output for a given X can allow us to evaluate the accuracy of the model and whether it was trained properly.\n"
      ],
      "metadata": {
        "id": "vx39s8zPe7cb"
      }
    },
    {
      "cell_type": "code",
      "execution_count": 6,
      "metadata": {
        "id": "CLqOZPfC8gfb",
        "colab": {
          "base_uri": "https://localhost:8080/"
        },
        "outputId": "069e93c1-629a-441d-c0d5-99a2133459c6"
      },
      "outputs": [
        {
          "output_type": "execute_result",
          "data": {
            "text/plain": [
              "<keras.src.callbacks.History at 0x78c1e2606800>"
            ]
          },
          "metadata": {},
          "execution_count": 6
        }
      ],
      "source": [
        "# define a neural network with one neuron\n",
        "# for more information on TF functions see: https://www.tensorflow.org/api_docs\n",
        "model = tf.keras.Sequential([tf.keras.layers.Dense(units=1, input_shape=[1])])\n",
        "\n",
        "# use stochastic gradient descent for optimization and\n",
        "# the mean squared error loss function\n",
        "model.compile(optimizer='sgd', loss='mean_squared_error')\n",
        "\n",
        "# define some training data (xs as inputs and ys as outputs)\n",
        "xs = np.array([-1.0,  0.0, 1.0, 2.0, 3.0, 4.0], dtype=float)\n",
        "ys = np.array([-3.0, -1.0, 1.0, 3.0, 5.0, 7.0], dtype=float)\n",
        "\n",
        "# fit the model to the data (aka train the model)\n",
        "#to see all epochs remove `verbose=0`\n",
        "model.fit(xs, ys, epochs=500,verbose=0)"
      ]
    },
    {
      "cell_type": "markdown",
      "source": [
        "### Evaluating the models predicted results\n",
        "\n",
        "The model does not predict the exact Y value for each given X even though the finanl loss in epoch 500 was really low. The reason for this is due to the **TensorFlow sgd optimizer** which has a learning rate of 0.01\n",
        "\n",
        "In the previous notebooks setting the correct learning rate was important since sometimes the algorithm would not be able to calculate the correct Y outputs. But when the neural network was being trained there was no option to change the learning rate, which was set by the TensorFlow sgd optimizer."
      ],
      "metadata": {
        "id": "HIyseRFiWix3"
      }
    },
    {
      "cell_type": "code",
      "execution_count": 7,
      "metadata": {
        "id": "qtu5rJBA8o9M",
        "colab": {
          "base_uri": "https://localhost:8080/"
        },
        "outputId": "7be996e8-3e9a-48d9-8938-9c8b0e8c5394"
      },
      "outputs": [
        {
          "output_type": "stream",
          "name": "stdout",
          "text": [
            "1/1 [==============================] - 0s 133ms/step\n",
            "[[18.980083]]\n"
          ]
        }
      ],
      "source": [
        "print(model.predict([10.0]))"
      ]
    }
  ],
  "metadata": {
    "colab": {
      "provenance": [],
      "include_colab_link": true
    },
    "kernelspec": {
      "display_name": "Python 3",
      "language": "python",
      "name": "python3"
    },
    "language_info": {
      "codemirror_mode": {
        "name": "ipython",
        "version": 3
      },
      "file_extension": ".py",
      "mimetype": "text/x-python",
      "name": "python",
      "nbconvert_exporter": "python",
      "pygments_lexer": "ipython3",
      "version": "3.10.11"
    }
  },
  "nbformat": 4,
  "nbformat_minor": 0
}
